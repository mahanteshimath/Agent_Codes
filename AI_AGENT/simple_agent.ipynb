{
 "cells": [
  {
   "cell_type": "markdown",
   "metadata": {},
   "source": [
    "# Simple Agent"
   ]
  },
  {
   "cell_type": "code",
   "execution_count": 1,
   "metadata": {},
   "outputs": [
    {
     "name": "stdout",
     "output_type": "stream",
     "text": [
      "Hello\n"
     ]
    }
   ],
   "source": [
    "print(\"Hello\")"
   ]
  },
  {
   "cell_type": "code",
   "execution_count": 2,
   "metadata": {},
   "outputs": [
    {
     "name": "stdout",
     "output_type": "stream",
     "text": [
      "Initial environment : \n",
      "[['DIRTY' 'CLEAN' 'DIRTY']\n",
      " ['CLEAN' 'DIRTY' 'CLEAN']\n",
      " ['DIRTY' 'DIRTY' 'CLEAN']]\n",
      "\n",
      "\n"
     ]
    }
   ],
   "source": [
    "import numpy as np\n",
    "import time\n",
    "environment = np.array(\n",
    "    [['DIRTY', 'CLEAN', 'DIRTY'],\n",
    "     ['CLEAN', 'DIRTY', 'CLEAN'],\n",
    "     ['DIRTY', 'DIRTY', 'CLEAN']]\n",
    ")\n",
    "\n",
    "class SimpleReflexAgent:\n",
    "    def __init__(self,enviornment):\n",
    "        self.location = (0,0)\n",
    "        self.enviornment = enviornment\n",
    "        \n",
    "    def perceive(self):  \n",
    "        return self.enviornment[self.location] == 'DIRTY'\n",
    "\n",
    "    def act(self):\n",
    "        if self.perceive():\n",
    "            print(f\"Location {self.location} is DIRTY. Cleaning...\")\n",
    "            self.enviornment[self.location] = 'CLEAN'  \n",
    "        else:\n",
    "            print(f\"Location {self.location} is CLEAN. Not cleaning...\")\n",
    "            self.move()\n",
    "    \n",
    "    def move(self):\n",
    "        rows, cols = self.enviornment.shape\n",
    "        row, col = self.location\n",
    "        if col+1<cols:\n",
    "            self.location = (row,col+1)\n",
    "        elif row+1<rows:\n",
    "            self.location = (row+1,0)\n",
    "        else:\n",
    "            print(\"No More Moves. Cleaning complete.\")\n",
    "\n",
    "environment = np.array(\n",
    "    [['DIRTY', 'CLEAN', 'DIRTY'],\n",
    "    ['CLEAN', 'DIRTY', 'CLEAN'],\n",
    "    ['DIRTY', 'DIRTY', 'CLEAN']]\n",
    ")\n",
    "\n",
    "print(f\"Initial environment : \\n{environment}\\n\\n\")\n",
    "\n",
    "agent = SimpleReflexAgent(environment)\n",
    "\n",
    "\n",
    "while True:\n",
    "  if np.all(agent.environment==\"CLEAN\"):\n",
    "    print(\"All locations are clean.Stopping..\")\n",
    "    break\n",
    "  agent.act()\n",
    "  print(f\"Environment state: \\n{agent.environment}\\n\\n\")\n",
    "\n"
   ]
  },
  {
   "cell_type": "code",
   "execution_count": null,
   "metadata": {},
   "outputs": [],
   "source": []
  }
 ],
 "metadata": {
  "kernelspec": {
   "display_name": "Python 3",
   "language": "python",
   "name": "python3"
  },
  "language_info": {
   "codemirror_mode": {
    "name": "ipython",
    "version": 3
   },
   "file_extension": ".py",
   "mimetype": "text/x-python",
   "name": "python",
   "nbconvert_exporter": "python",
   "pygments_lexer": "ipython3",
   "version": "3.12.1"
  }
 },
 "nbformat": 4,
 "nbformat_minor": 2
}
